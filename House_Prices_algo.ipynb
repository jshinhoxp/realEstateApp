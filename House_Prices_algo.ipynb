{
  "cells": [
    {
      "cell_type": "code",
      "execution_count": 79,
      "metadata": {
        "id": "QKwr7dcJQNch"
      },
      "outputs": [],
      "source": [
        "# Conventionally people rename the pandas import to pd for brevity\n",
        "import pandas as pd"
      ]
    },
    {
      "cell_type": "code",
      "execution_count": 109,
      "metadata": {
        "id": "ca1_IOsVQNcq"
      },
      "outputs": [
        {
          "data": {
            "text/html": [
              "<div>\n",
              "<style scoped>\n",
              "    .dataframe tbody tr th:only-of-type {\n",
              "        vertical-align: middle;\n",
              "    }\n",
              "\n",
              "    .dataframe tbody tr th {\n",
              "        vertical-align: top;\n",
              "    }\n",
              "\n",
              "    .dataframe thead th {\n",
              "        text-align: right;\n",
              "    }\n",
              "</style>\n",
              "<table border=\"1\" class=\"dataframe\">\n",
              "  <thead>\n",
              "    <tr style=\"text-align: right;\">\n",
              "      <th></th>\n",
              "      <th>id</th>\n",
              "      <th>date</th>\n",
              "      <th>price</th>\n",
              "      <th>bedrooms</th>\n",
              "      <th>bathrooms</th>\n",
              "      <th>sqft_living</th>\n",
              "      <th>sqft_lot</th>\n",
              "      <th>floors</th>\n",
              "      <th>waterfront</th>\n",
              "      <th>view</th>\n",
              "      <th>...</th>\n",
              "      <th>grade</th>\n",
              "      <th>sqft_above</th>\n",
              "      <th>sqft_basement</th>\n",
              "      <th>yr_built</th>\n",
              "      <th>yr_renovated</th>\n",
              "      <th>zipcode</th>\n",
              "      <th>lat</th>\n",
              "      <th>long</th>\n",
              "      <th>sqft_living15</th>\n",
              "      <th>sqft_lot15</th>\n",
              "    </tr>\n",
              "  </thead>\n",
              "  <tbody>\n",
              "    <tr>\n",
              "      <th>0</th>\n",
              "      <td>7129300520</td>\n",
              "      <td>20141013T000000</td>\n",
              "      <td>221900</td>\n",
              "      <td>3</td>\n",
              "      <td>1.00</td>\n",
              "      <td>1180</td>\n",
              "      <td>5650</td>\n",
              "      <td>1.0</td>\n",
              "      <td>0</td>\n",
              "      <td>0</td>\n",
              "      <td>...</td>\n",
              "      <td>7</td>\n",
              "      <td>1180</td>\n",
              "      <td>0</td>\n",
              "      <td>1955</td>\n",
              "      <td>0</td>\n",
              "      <td>98178</td>\n",
              "      <td>47.5112</td>\n",
              "      <td>-122.257</td>\n",
              "      <td>1340</td>\n",
              "      <td>5650</td>\n",
              "    </tr>\n",
              "    <tr>\n",
              "      <th>1</th>\n",
              "      <td>6414100192</td>\n",
              "      <td>20141209T000000</td>\n",
              "      <td>538000</td>\n",
              "      <td>3</td>\n",
              "      <td>2.25</td>\n",
              "      <td>2570</td>\n",
              "      <td>7242</td>\n",
              "      <td>2.0</td>\n",
              "      <td>0</td>\n",
              "      <td>0</td>\n",
              "      <td>...</td>\n",
              "      <td>7</td>\n",
              "      <td>2170</td>\n",
              "      <td>400</td>\n",
              "      <td>1951</td>\n",
              "      <td>1991</td>\n",
              "      <td>98125</td>\n",
              "      <td>47.7210</td>\n",
              "      <td>-122.319</td>\n",
              "      <td>1690</td>\n",
              "      <td>7639</td>\n",
              "    </tr>\n",
              "    <tr>\n",
              "      <th>2</th>\n",
              "      <td>5631500400</td>\n",
              "      <td>20150225T000000</td>\n",
              "      <td>180000</td>\n",
              "      <td>2</td>\n",
              "      <td>1.00</td>\n",
              "      <td>770</td>\n",
              "      <td>10000</td>\n",
              "      <td>1.0</td>\n",
              "      <td>0</td>\n",
              "      <td>0</td>\n",
              "      <td>...</td>\n",
              "      <td>6</td>\n",
              "      <td>770</td>\n",
              "      <td>0</td>\n",
              "      <td>1933</td>\n",
              "      <td>0</td>\n",
              "      <td>98028</td>\n",
              "      <td>47.7379</td>\n",
              "      <td>-122.233</td>\n",
              "      <td>2720</td>\n",
              "      <td>8062</td>\n",
              "    </tr>\n",
              "    <tr>\n",
              "      <th>3</th>\n",
              "      <td>2487200875</td>\n",
              "      <td>20141209T000000</td>\n",
              "      <td>604000</td>\n",
              "      <td>4</td>\n",
              "      <td>3.00</td>\n",
              "      <td>1960</td>\n",
              "      <td>5000</td>\n",
              "      <td>1.0</td>\n",
              "      <td>0</td>\n",
              "      <td>0</td>\n",
              "      <td>...</td>\n",
              "      <td>7</td>\n",
              "      <td>1050</td>\n",
              "      <td>910</td>\n",
              "      <td>1965</td>\n",
              "      <td>0</td>\n",
              "      <td>98136</td>\n",
              "      <td>47.5208</td>\n",
              "      <td>-122.393</td>\n",
              "      <td>1360</td>\n",
              "      <td>5000</td>\n",
              "    </tr>\n",
              "    <tr>\n",
              "      <th>4</th>\n",
              "      <td>1954400510</td>\n",
              "      <td>20150218T000000</td>\n",
              "      <td>510000</td>\n",
              "      <td>3</td>\n",
              "      <td>2.00</td>\n",
              "      <td>1680</td>\n",
              "      <td>8080</td>\n",
              "      <td>1.0</td>\n",
              "      <td>0</td>\n",
              "      <td>0</td>\n",
              "      <td>...</td>\n",
              "      <td>8</td>\n",
              "      <td>1680</td>\n",
              "      <td>0</td>\n",
              "      <td>1987</td>\n",
              "      <td>0</td>\n",
              "      <td>98074</td>\n",
              "      <td>47.6168</td>\n",
              "      <td>-122.045</td>\n",
              "      <td>1800</td>\n",
              "      <td>7503</td>\n",
              "    </tr>\n",
              "  </tbody>\n",
              "</table>\n",
              "<p>5 rows × 21 columns</p>\n",
              "</div>"
            ],
            "text/plain": [
              "           id             date   price  bedrooms  bathrooms  sqft_living  \\\n",
              "0  7129300520  20141013T000000  221900         3       1.00         1180   \n",
              "1  6414100192  20141209T000000  538000         3       2.25         2570   \n",
              "2  5631500400  20150225T000000  180000         2       1.00          770   \n",
              "3  2487200875  20141209T000000  604000         4       3.00         1960   \n",
              "4  1954400510  20150218T000000  510000         3       2.00         1680   \n",
              "\n",
              "   sqft_lot  floors  waterfront  view  ...  grade  sqft_above  sqft_basement  \\\n",
              "0      5650     1.0           0     0  ...      7        1180              0   \n",
              "1      7242     2.0           0     0  ...      7        2170            400   \n",
              "2     10000     1.0           0     0  ...      6         770              0   \n",
              "3      5000     1.0           0     0  ...      7        1050            910   \n",
              "4      8080     1.0           0     0  ...      8        1680              0   \n",
              "\n",
              "   yr_built  yr_renovated  zipcode      lat     long  sqft_living15  \\\n",
              "0      1955             0    98178  47.5112 -122.257           1340   \n",
              "1      1951          1991    98125  47.7210 -122.319           1690   \n",
              "2      1933             0    98028  47.7379 -122.233           2720   \n",
              "3      1965             0    98136  47.5208 -122.393           1360   \n",
              "4      1987             0    98074  47.6168 -122.045           1800   \n",
              "\n",
              "   sqft_lot15  \n",
              "0        5650  \n",
              "1        7639  \n",
              "2        8062  \n",
              "3        5000  \n",
              "4        7503  \n",
              "\n",
              "[5 rows x 21 columns]"
            ]
          },
          "execution_count": 109,
          "metadata": {},
          "output_type": "execute_result"
        }
      ],
      "source": [
        "# Load in the data and preview it\n",
        "sales = pd.read_csv('home_data.csv') \n",
        "sales.head()"
      ]
    },
    {
      "cell_type": "code",
      "execution_count": 146,
      "metadata": {},
      "outputs": [
        {
          "data": {
            "text/plain": [
              "(70,)"
            ]
          },
          "execution_count": 146,
          "metadata": {},
          "output_type": "execute_result"
        }
      ],
      "source": [
        "# Order by zipcode\n",
        "sales = sales.sort_values('zipcode')\n",
        "\n",
        "# Create a list of the unique zipcodes (numpy.ndarray)\n",
        "unique_zipcodes = sales['zipcode'].unique()\n",
        "\n",
        "# Create list of dataframes by zipcode\n",
        "list_of_df = []\n",
        "\n",
        "for zipcode in unique_zipcodes:\n",
        "   # Create df for each zipcode\n",
        "   df = sales[sales['zipcode'] == zipcode]\n",
        "   # Append to the list_of_df\n",
        "   list_of_df.append(df)"
      ]
    },
    {
      "cell_type": "code",
      "execution_count": 163,
      "metadata": {
        "id": "Kzh667KAQNcv"
      },
      "outputs": [
        {
          "name": "stdout",
          "output_type": "stream",
          "text": [
            "# of zipcodes: 70\n",
            "# of (train) dataframes: 70\n",
            "# of (test) dataframes: 70\n"
          ]
        }
      ],
      "source": [
        "from sklearn.model_selection import train_test_split\n",
        "\n",
        "list_of_df_train = []\n",
        "list_of_df_test = []\n",
        "\n",
        "# Split each dataframe into train (80%) and test data (20%) \n",
        "for df in list_of_df:\n",
        "   train_data, test_data = train_test_split(df, test_size=0.2)\n",
        "   list_of_df_train.append(train_data)\n",
        "   list_of_df_test.append(test_data)\n",
        "\n",
        "print(f\"# of zipcodes:\", len(unique_zipcodes))\n",
        "print(f\"# of (train) dataframes:\", len(list_of_df_train))\n",
        "print(f\"# of (test) dataframes:\", len(list_of_df_test))\n"
      ]
    },
    {
      "cell_type": "code",
      "execution_count": 165,
      "metadata": {
        "id": "yTBfZRbbQNcx"
      },
      "outputs": [
        {
          "name": "stdout",
          "output_type": "stream",
          "text": [
            "Basic Model \n",
            " Intercept: -39191.12823594711\n",
            "      Features          Coef\n",
            "0     bedrooms -51638.162563\n",
            "1    bathrooms  41521.963225\n",
            "2  sqft_living    316.481308\n",
            "3     sqft_lot     29.829980\n",
            "4       floors  42065.076319\n",
            "       bedrooms  bathrooms  sqft_living  sqft_lot  floors\n",
            "18516         3       1.75         2520      4534     1.0\n",
            "1360          3       2.00         2310      6000     2.0\n",
            "8329          4       3.50         3080      4815     2.0\n",
            "5843          4       1.75         1700      5846     1.0\n",
            "20337         3       2.25         1230       875     3.0\n",
            "...         ...        ...          ...       ...     ...\n",
            "1050          3       2.00         1700      4250     1.0\n",
            "16327         4       3.50         2730      5607     1.0\n",
            "9021          3       2.25         1760      1800     2.0\n",
            "4289          3       2.50         1910      1501     2.5\n",
            "10969         4       2.50         2020      4350     2.0\n",
            "\n",
            "[253 rows x 5 columns]\n"
          ]
        }
      ],
      "source": [
        "from sklearn import linear_model\n",
        "\n",
        "# Basic Model\n",
        "y = train_data.price # price column of training set\n",
        "X = train_data[basic_features]\n",
        "\n",
        "# Create and train the model\n",
        "basic_model = linear_model.LinearRegression().fit(X, y)\n",
        "basic_features = ['bedrooms', 'bathrooms', 'sqft_living', 'sqft_lot', 'floors']\n",
        "# Print the model\n",
        "print(f\"Basic Model \\n Intercept: {basic_model.intercept_}\")\n",
        "df = pd.DataFrame(zip(basic_features, basic_model.coef_), columns=['Features','Coef'])\n",
        "print(df)\n",
        "\n",
        "print(X)"
      ]
    },
    {
      "cell_type": "code",
      "execution_count": 90,
      "metadata": {
        "id": "SPnQ_chKQNcx"
      },
      "outputs": [
        {
          "name": "stdout",
          "output_type": "stream",
          "text": [
            "Basic Model RMSE (Training Data): 251868.63 \n",
            "\n",
            "[461436.71584674 356359.1551281  779128.59273735 ... 443765.59804266\n",
            " 224481.01016227 422628.3292414 ]\n",
            "       bedrooms  bathrooms  sqft_living  sqft_lot  floors\n",
            "9464          4       2.50         1930      8660     1.0\n",
            "11125         3       1.00         1440     11330     1.0\n",
            "7047          3       2.50         2770      8820     1.0\n",
            "10472         5       2.25         1950      8086     1.0\n",
            "6869          4       2.50         1830      5175     2.0\n",
            "...         ...        ...          ...       ...     ...\n",
            "2329          4       1.75         2430     13211     1.5\n",
            "8003          4       2.50         3070      6923     2.0\n",
            "2187          3       2.50         1680     11312     1.0\n",
            "3202          2       1.00          810      7980     1.0\n",
            "17384         2       1.50         1430      1650     3.0\n",
            "\n",
            "[17290 rows x 5 columns]\n",
            "<class 'pandas.core.frame.DataFrame'>\n"
          ]
        }
      ],
      "source": [
        "### edTest(test_train_rmse) ###\n",
        "\n",
        "from sklearn.metrics import mean_squared_error \n",
        "# TODO\n",
        "\n",
        "# Predicting prices\n",
        "y = train_data.price # price column of training set\n",
        "X = train_data[basic_features]\n",
        "y_pred = basic_model.predict(X)\n",
        "train_rmse_basic = mean_squared_error(y, y_pred, squared=False) #False = rmse\n",
        "\n",
        "print(f\"Basic Model RMSE (Training Data): {train_rmse_basic:.2f} \\n\")\n",
        "print(y_pred)\n",
        "\n",
        "print(X)\n",
        "print(type(X))"
      ]
    },
    {
      "cell_type": "code",
      "execution_count": 91,
      "metadata": {
        "id": "itZa5y8mQNcy"
      },
      "outputs": [
        {
          "name": "stdout",
          "output_type": "stream",
          "text": [
            "Basic Model RMSE (Test Data): 278435.60 \n",
            "\n"
          ]
        }
      ],
      "source": [
        "# Predicting prices\n",
        "y = test_data.price # price column of training set\n",
        "X = test_data[basic_features]\n",
        "y_pred = basic_model.predict(X)\n",
        "\n",
        "test_rmse_basic = mean_squared_error(y, y_pred, squared=False) #False = rmse\n",
        "print(f\"Basic Model RMSE (Test Data): {test_rmse_basic:.2f} \\n\")\n"
      ]
    },
    {
      "cell_type": "code",
      "execution_count": 92,
      "metadata": {
        "id": "rZY_v-k2QNcy"
      },
      "outputs": [
        {
          "name": "stdout",
          "output_type": "stream",
          "text": [
            "Basic RMSE Error: 251868.63 vs 278435.60\n"
          ]
        }
      ],
      "source": [
        "print(f\"Basic RMSE Error: {train_rmse_basic:.2f} vs {test_rmse_basic:.2f}\")\n"
      ]
    },
    {
      "cell_type": "code",
      "execution_count": 93,
      "metadata": {},
      "outputs": [
        {
          "data": {
            "text/plain": [
              "['basic_model.joblib']"
            ]
          },
          "execution_count": 93,
          "metadata": {},
          "output_type": "execute_result"
        }
      ],
      "source": [
        "from joblib import dump, load\n",
        "# Create the condensed model file\n",
        "dump(basic_model, 'basic_model.joblib')"
      ]
    },
    {
      "cell_type": "code",
      "execution_count": 100,
      "metadata": {},
      "outputs": [
        {
          "name": "stdout",
          "output_type": "stream",
          "text": [
            "[602008.86649883]\n"
          ]
        }
      ],
      "source": [
        "import numpy as np\n",
        "# Load the condensed model file\n",
        "mdl = load('basic_model.joblib')\n",
        "\n",
        "# Assume user input\n",
        "userInput = {\n",
        "   'bedrooms': 3,\n",
        "   'bathrooms': 2,\n",
        "   'sqft_living': 2200,\n",
        "   'sqft_lot': 4000,\n",
        "   'floors': 2\n",
        "}\n",
        "\n",
        "# Convert to pandas dataframe\n",
        "df = pd.DataFrame([userInput])\n",
        "\n",
        "# Predict based on input\n",
        "y_pred = mdl.predict(df)\n",
        "\n",
        "# Display the results\n",
        "print(y_pred)\n"
      ]
    },
    {
      "cell_type": "markdown",
      "metadata": {},
      "source": []
    }
  ],
  "metadata": {
    "colab": {
      "collapsed_sections": [],
      "name": "HW1_House_Prices.ipynb",
      "provenance": []
    },
    "kernelspec": {
      "display_name": "Python 3 (ipykernel)",
      "language": "python",
      "name": "python3"
    },
    "language_info": {
      "codemirror_mode": {
        "name": "ipython",
        "version": 3
      },
      "file_extension": ".py",
      "mimetype": "text/x-python",
      "name": "python",
      "nbconvert_exporter": "python",
      "pygments_lexer": "ipython3",
      "version": "3.10.6"
    }
  },
  "nbformat": 4,
  "nbformat_minor": 0
}
